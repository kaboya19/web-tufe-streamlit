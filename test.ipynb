{
 "cells": [
  {
   "cell_type": "code",
   "execution_count": 1,
   "metadata": {},
   "outputs": [
    {
     "name": "stderr",
     "output_type": "stream",
     "text": [
      "2025-02-10 17:57:03.805 WARNING streamlit.runtime.scriptrunner_utils.script_run_context: Thread 'MainThread': missing ScriptRunContext! This warning can be ignored when running in bare mode.\n"
     ]
    }
   ],
   "source": [
    "import streamlit as st\n",
    "import pandas as pd\n",
    "import plotly.graph_objects as go\n",
    "import plotly.express as px\n",
    "import numpy as np\n",
    "import matplotlib.pyplot as plt\n",
    "import os\n",
    "from io import BytesIO\n",
    "from datetime import datetime\n",
    "from st_social_media_links import SocialMediaIcons\n",
    "import base64\n",
    "from streamlit_option_menu import option_menu"
   ]
  },
  {
   "cell_type": "code",
   "execution_count": 2,
   "metadata": {},
   "outputs": [],
   "source": [
    "from datetime import datetime,timedelta\n",
    "import pytz\n",
    "tüfe=pd.read_csv(\"tüfe.csv\",index_col=0)\n",
    "tüfe.index=pd.to_datetime(tüfe.index)\n",
    "gfe1=tüfe.copy()\n",
    "gfe1[\"Date\"]=pd.to_datetime(gfe1.index)\n",
    "gfe1[\"Ay\"]=gfe1[\"Date\"].dt.month\n",
    "gfe1[\"Yıl\"]=gfe1[\"Date\"].dt.year    \n",
    "month = gfe1[\"Ay\"].iloc[-1]\n",
    "year=gfe1[\"Yıl\"].iloc[-1] \n",
    "oncekiyear=gfe1[\"Yıl\"].iloc[-1] "
   ]
  },
  {
   "cell_type": "code",
   "execution_count": 26,
   "metadata": {},
   "outputs": [
    {
     "name": "stderr",
     "output_type": "stream",
     "text": [
      "C:\\Users\\Bora\\AppData\\Local\\Temp\\ipykernel_46100\\2297976651.py:40: FutureWarning: Series.fillna with 'method' is deprecated and will raise in a future version. Use obj.ffill() or obj.bfill() instead.\n",
      "  hareketlima = hareketli_aylik_ortalama(tüfe.iloc[:,0])[\"Aylık Ortalama\"].fillna(method=\"ffill\")\n",
      "C:\\Users\\Bora\\AppData\\Local\\Temp\\ipykernel_46100\\2297976651.py:45: FutureWarning: Series.fillna with 'method' is deprecated and will raise in a future version. Use obj.ffill() or obj.bfill() instead.\n",
      "  hareketliartıs=hareketli_aylik_ortalama(tüfe.iloc[:,0])[\"Aylık Ortalama\"].fillna(method=\"ffill\").loc[tarih:]/hareketli_aylik_ortalama(tüfe.iloc[:,0])[\"Aylık Ortalama\"].fillna(method=\"ffill\").loc[:f\"{onceki}-24\"]\n",
      "C:\\Users\\Bora\\AppData\\Local\\Temp\\ipykernel_46100\\2297976651.py:45: FutureWarning: Series.fillna with 'method' is deprecated and will raise in a future version. Use obj.ffill() or obj.bfill() instead.\n",
      "  hareketliartıs=hareketli_aylik_ortalama(tüfe.iloc[:,0])[\"Aylık Ortalama\"].fillna(method=\"ffill\").loc[tarih:]/hareketli_aylik_ortalama(tüfe.iloc[:,0])[\"Aylık Ortalama\"].fillna(method=\"ffill\").loc[:f\"{onceki}-24\"]\n"
     ]
    }
   ],
   "source": [
    "def hareketli_aylik_ortalama(df):\n",
    "        değer = df.name  # Kolon ismi\n",
    "        df = pd.DataFrame(df)\n",
    "        df[\"Tarih\"] = pd.to_datetime(df.index)  # Tarih sütununu datetime formatına çevir\n",
    "        df[\"Gün Sırası\"] = df.groupby(df[\"Tarih\"].dt.to_period(\"M\")).cumcount() + 1  # Her ay için gün sırasını oluştur\n",
    "        \n",
    "        # Her ay için ilk 24 günü sınırla ve hareketli ortalama hesapla\n",
    "        df[\"Aylık Ortalama\"] = (\n",
    "            df[df[\"Gün Sırası\"] <= 24]\n",
    "            .groupby(df[\"Tarih\"].dt.to_period(\"M\"))[değer]\n",
    "            .expanding()\n",
    "            .mean()\n",
    "            .reset_index(level=0, drop=True)\n",
    "        )\n",
    "        \n",
    "        # Orijinal indeksi geri yükle\n",
    "        df.index = pd.to_datetime(df.index)\n",
    "        return df\n",
    "    \n",
    "\n",
    "   \n",
    "\n",
    "tarihim=pd.to_datetime(gfe1.index[-1]).day\n",
    "if tarihim>24:\n",
    "    tarihim=24\n",
    "if tarihim<10:\n",
    "    tarihim=\"0\"+str(tarihim)\n",
    "\n",
    "\n",
    "def hareketli_aylik_ortalama1(df):\n",
    "        değer=df.name\n",
    "        df=pd.DataFrame(df)\n",
    "        df[\"Tarih\"]=pd.to_datetime(df.index)\n",
    "        df['Aylık Ortalama'] = df.groupby(df['Tarih'].dt.to_period('M'))[değer].expanding().mean().reset_index(level=0, drop=True)\n",
    "        df.index=pd.to_datetime(df.index)\n",
    "        return df\n",
    "\n",
    "\n",
    "\n",
    "hareketlima = hareketli_aylik_ortalama(tüfe.iloc[:,0])[\"Aylık Ortalama\"].fillna(method=\"ffill\")\n",
    "from datetime import datetime,timedelta\n",
    "tarih=datetime.now().strftime(\"%Y-%m\")\n",
    "\n",
    "onceki=(datetime.now()-timedelta(days=31)).strftime(\"%Y-%m\")\n",
    "hareketliartıs=hareketli_aylik_ortalama(tüfe.iloc[:,0])[\"Aylık Ortalama\"].fillna(method=\"ffill\").loc[tarih:]/hareketli_aylik_ortalama(tüfe.iloc[:,0])[\"Aylık Ortalama\"].fillna(method=\"ffill\").loc[:f\"{onceki}-24\"]\n",
    "hareketliartıs=(hareketliartıs-1)*100"
   ]
  },
  {
   "cell_type": "code",
   "execution_count": 32,
   "metadata": {},
   "outputs": [
    {
     "name": "stderr",
     "output_type": "stream",
     "text": [
      "C:\\Users\\Bora\\AppData\\Local\\Temp\\ipykernel_46100\\1288260787.py:1: FutureWarning: Series.fillna with 'method' is deprecated and will raise in a future version. Use obj.ffill() or obj.bfill() instead.\n",
      "  cari=hareketli_aylik_ortalama(tüfe.iloc[:,0])[\"Aylık Ortalama\"].fillna(method=\"ffill\").loc[tarih:]\n"
     ]
    }
   ],
   "source": [
    "cari=hareketli_aylik_ortalama(tüfe.iloc[:,0])[\"Aylık Ortalama\"].fillna(method=\"ffill\").loc[tarih:]"
   ]
  },
  {
   "cell_type": "code",
   "execution_count": 33,
   "metadata": {},
   "outputs": [
    {
     "name": "stderr",
     "output_type": "stream",
     "text": [
      "C:\\Users\\Bora\\AppData\\Local\\Temp\\ipykernel_46100\\2356160772.py:1: FutureWarning: Series.fillna with 'method' is deprecated and will raise in a future version. Use obj.ffill() or obj.bfill() instead.\n",
      "  hareketli_aylik_ortalama(tüfe.iloc[:,0])[\"Aylık Ortalama\"].fillna(method=\"ffill\").loc[f\"{onceki}-1\":f\"{onceki}-24\"].iloc[:len(cari)]\n"
     ]
    },
    {
     "data": {
      "text/plain": [
       "2025-01-01    100.532588\n",
       "2025-01-02    100.609943\n",
       "2025-01-03    100.690320\n",
       "2025-01-04    100.753498\n",
       "2025-01-05    100.806831\n",
       "2025-01-06    100.864572\n",
       "2025-01-07    100.930172\n",
       "2025-01-08    100.997635\n",
       "2025-01-09    101.067898\n",
       "2025-01-10    101.130934\n",
       "Name: Aylık Ortalama, dtype: float64"
      ]
     },
     "execution_count": 33,
     "metadata": {},
     "output_type": "execute_result"
    }
   ],
   "source": [
    "hareketli_aylik_ortalama(tüfe.iloc[:,0])[\"Aylık Ortalama\"].fillna(method=\"ffill\").loc[f\"{onceki}-1\":f\"{onceki}-24\"].iloc[:len(cari)]"
   ]
  },
  {
   "cell_type": "code",
   "execution_count": 35,
   "metadata": {},
   "outputs": [
    {
     "name": "stderr",
     "output_type": "stream",
     "text": [
      "C:\\Users\\Bora\\AppData\\Local\\Temp\\ipykernel_46100\\1253615930.py:1: FutureWarning: Series.fillna with 'method' is deprecated and will raise in a future version. Use obj.ffill() or obj.bfill() instead.\n",
      "  cari.values/hareketli_aylik_ortalama(tüfe.iloc[:,0])[\"Aylık Ortalama\"].fillna(method=\"ffill\").loc[f\"{onceki}-1\":f\"{onceki}-24\"].iloc[:len(cari)].values\n"
     ]
    },
    {
     "data": {
      "text/plain": [
       "array([1.02997922, 1.02961507, 1.02925488, 1.02953024, 1.03005078,\n",
       "       1.03059827, 1.03087737, 1.03109726, 1.03112856, 1.03126141])"
      ]
     },
     "execution_count": 35,
     "metadata": {},
     "output_type": "execute_result"
    }
   ],
   "source": [
    "cari.values/hareketli_aylik_ortalama(tüfe.iloc[:,0])[\"Aylık Ortalama\"].fillna(method=\"ffill\").loc[f\"{onceki}-1\":f\"{onceki}-24\"].iloc[:len(cari)].values"
   ]
  }
 ],
 "metadata": {
  "kernelspec": {
   "display_name": "Python 3",
   "language": "python",
   "name": "python3"
  },
  "language_info": {
   "codemirror_mode": {
    "name": "ipython",
    "version": 3
   },
   "file_extension": ".py",
   "mimetype": "text/x-python",
   "name": "python",
   "nbconvert_exporter": "python",
   "pygments_lexer": "ipython3",
   "version": "3.10.0"
  }
 },
 "nbformat": 4,
 "nbformat_minor": 2
}

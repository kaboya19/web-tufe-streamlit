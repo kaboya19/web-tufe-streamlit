{
 "cells": [
  {
   "cell_type": "code",
   "execution_count": 1,
   "metadata": {},
   "outputs": [
    {
     "name": "stderr",
     "output_type": "stream",
     "text": [
      "2025-03-10 23:24:22.233 WARNING streamlit.runtime.scriptrunner_utils.script_run_context: Thread 'MainThread': missing ScriptRunContext! This warning can be ignored when running in bare mode.\n"
     ]
    }
   ],
   "source": [
    "import streamlit as st\n",
    "import pandas as pd\n",
    "import plotly.graph_objects as go\n",
    "import plotly.express as px\n",
    "import numpy as np\n",
    "import matplotlib.pyplot as plt\n",
    "import os\n",
    "from io import BytesIO\n",
    "from datetime import datetime\n",
    "from st_social_media_links import SocialMediaIcons\n",
    "import base64\n",
    "from streamlit_option_menu import option_menu"
   ]
  },
  {
   "cell_type": "code",
   "execution_count": 2,
   "metadata": {},
   "outputs": [],
   "source": [
    "endeksler=pd.read_csv(\"endeksler.csv\",index_col=0)\n",
    "endeksler.index=pd.to_datetime(endeksler.index)\n",
    "endeksler_aylık=pd.DataFrame(columns=endeksler.columns)\n"
   ]
  },
  {
   "cell_type": "code",
   "execution_count": 20,
   "metadata": {},
   "outputs": [],
   "source": [
    "endeksler.to_csv(\"endeksler_int.csv\")"
   ]
  },
  {
   "cell_type": "code",
   "execution_count": 13,
   "metadata": {},
   "outputs": [
    {
     "data": {
      "text/plain": [
       "Ağırlık                0.012062\n",
       "Ana Grup              Ulaştırma\n",
       "Endeks_2024-12-31         100.0\n",
       "Endeks_2025-01-06    102.097821\n",
       "Endeks_2025-01-07    105.015647\n",
       "                        ...    \n",
       "Endeks_2025-03-06    105.045436\n",
       "Endeks_2025-03-07    100.467038\n",
       "Endeks_2025-03-08    100.467038\n",
       "Endeks_2025-03-09    100.467038\n",
       "Endeks_2025-03-10    100.498892\n",
       "Name: Benzin, Length: 66, dtype: object"
      ]
     },
     "execution_count": 13,
     "metadata": {},
     "output_type": "execute_result"
    }
   ],
   "source": [
    "ağırlıklar=pd.read_csv(\"ağırlıklartüfe.csv\",index_col=0)\n",
    "ağırlıklar.loc[\"Benzin\"]"
   ]
  },
  {
   "cell_type": "code",
   "execution_count": 19,
   "metadata": {},
   "outputs": [],
   "source": [
    "endeksler[\"Tramvay Ücreti\"].loc[:\"2025-01-06\"]=100\n",
    "endeksler.to_csv(\"endeksler.csv\")"
   ]
  },
  {
   "cell_type": "code",
   "execution_count": 8,
   "metadata": {},
   "outputs": [],
   "source": [
    "endeksler_aylık=endeksler_aylık.T"
   ]
  },
  {
   "cell_type": "code",
   "execution_count": 11,
   "metadata": {},
   "outputs": [],
   "source": [
    "endeksler_aylık.columns=endeksler_aylık.iloc[0,:]\n",
    "endeksler_aylık=endeksler_aylık.iloc[1:]"
   ]
  },
  {
   "cell_type": "code",
   "execution_count": 15,
   "metadata": {},
   "outputs": [],
   "source": [
    "endeksler_aylık=endeksler_aylık.reset_index()\n",
    "endeksler_aylık=endeksler_aylık.rename(columns={\"index\":\"Madde\"})"
   ]
  },
  {
   "cell_type": "code",
   "execution_count": 16,
   "metadata": {},
   "outputs": [
    {
     "data": {
      "application/vnd.microsoft.datawrangler.viewer.v0+json": {
       "columns": [
        {
         "name": "index",
         "rawType": "int64",
         "type": "integer"
        },
        {
         "name": "Madde",
         "rawType": "object",
         "type": "string"
        },
        {
         "name": "2025-02",
         "rawType": "object",
         "type": "unknown"
        },
        {
         "name": "2025-03",
         "rawType": "object",
         "type": "unknown"
        }
       ],
       "conversionMethod": "pd.DataFrame",
       "ref": "28504d71-b6ef-4769-8213-a7a90f0926a2",
       "rows": [
        [
         "0",
         "Ampul",
         "4.786672569204287",
         "8.129349729361657"
        ],
        [
         "1",
         "Ankastre Fırın",
         "1.6132560911547467",
         "4.148246213971429"
        ],
        [
         "2",
         "Ankastre Mikrodalga Fırın",
         "1.8897522518162013",
         "5.738414099083888"
        ],
        [
         "3",
         "Ankastre Ocak (Set Üstü) ",
         "2.523521103107562",
         "4.461976587211658"
        ],
        [
         "4",
         "Antep Fıstığı",
         "-0.15134340081274233",
         "0.30879642978902666"
        ],
        [
         "5",
         "Araba Kiralama Ücreti",
         "-17.314739958647795",
         "5.505354781642224"
        ],
        [
         "6",
         "Araçların  Tamirine ve Bakımına Ödenen Ücretler (İşçilik)",
         "16.620989418325994",
         "45.26095013514342"
        ],
        [
         "7",
         "Armut",
         "2.862085795255509",
         "0.5362357263902551"
        ],
        [
         "8",
         "Ay Çekirdeği",
         "1.6466473544024751",
         "1.935049537114053"
        ],
        [
         "9",
         "Ayakkabı (Erkek için)",
         "3.737693489566052",
         "11.872592216732315"
        ],
        [
         "10",
         "Ayakkabı (Kadın için)",
         "1.9441027992355142",
         "7.248952486744886"
        ],
        [
         "11",
         "Ayakkabı (Çocuk için)",
         "0.6499032565939089",
         "5.432341589502032"
        ],
        [
         "12",
         "Ayakkabı Tamiri (Erkek)",
         "12.453488467239925",
         "13.988851091388277"
        ],
        [
         "13",
         "Ayran",
         "13.535024267547978",
         "14.75158938303096"
        ],
        [
         "14",
         "Ayran (Servis edilen)",
         "-10.966854410753257",
         "-42.41928110285803"
        ],
        [
         "15",
         "Ayva",
         "11.446459537338916",
         "10.486517065450872"
        ],
        [
         "16",
         "Ayçiçek Yağı",
         "4.395352668254104",
         "5.41545688342453"
        ],
        [
         "17",
         "Ağız ve Diş Bakımı Ürünleri",
         "5.025114687582444",
         "8.206807613390277"
        ],
        [
         "18",
         "Badana ve Boya Malzemeleri",
         "8.23033877277648",
         "14.881098093268852"
        ],
        [
         "19",
         "Badem İçi",
         "3.286916676819218",
         "4.468468827180105"
        ],
        [
         "20",
         "Baharat",
         "2.5597389432644446",
         "3.690299886727777"
        ],
        [
         "21",
         "Baklava",
         "15.18871882367987",
         "20.07213685959277"
        ],
        [
         "22",
         "Bal",
         "4.005688951443198",
         "4.787388172518692"
        ],
        [
         "23",
         "Balık",
         "8.348379150954365",
         "10.800664053677767"
        ],
        [
         "24",
         "Banka ile Para Havale Ücreti",
         "-0.008223554685815593",
         "-0.032894218743284576"
        ],
        [
         "25",
         "Battaniye",
         "11.292230455457686",
         "38.065707509369126"
        ],
        [
         "26",
         "Bebek Arabası",
         "1.0358309497960017",
         "2.7255933743855376"
        ],
        [
         "27",
         "Bebek Bezi",
         "1.5758527647000475",
         "0.31330510110263443"
        ],
        [
         "28",
         "Bebek Pijaması",
         "1.755477211760481",
         "9.392301986576147"
        ],
        [
         "29",
         "Bebek Sütü (Toz Karışım)",
         "1.6721490561706576",
         "2.613398597922756"
        ],
        [
         "30",
         "Bebek Tulumu",
         "3.1679136827039045",
         "7.889935900355138"
        ],
        [
         "31",
         "Bebek İç Çamaşırı",
         "3.1220425864231016",
         "8.990401560109218"
        ],
        [
         "32",
         "Belediye Otobüs Ücreti",
         "15.211318678303032",
         "26.789437291688365"
        ],
        [
         "33",
         "Benzin",
         "2.7116069637582285",
         "2.8089982466367625"
        ],
        [
         "34",
         "Beyaz Lahana",
         "3.1916509626497724",
         "9.446651868378652"
        ],
        [
         "35",
         "Beyaz Peynir",
         "5.97655892525375",
         "7.671443501436359"
        ],
        [
         "36",
         "Bilgisayar",
         "0.07451864632830318",
         "-0.15799368464636254"
        ],
        [
         "37",
         "Bilgisayar Ekipmanları",
         "1.721001463579297",
         "3.338984178457749"
        ],
        [
         "38",
         "Bisiklet",
         "9.383268286014324",
         "20.82724910438225"
        ],
        [
         "39",
         "Bisküvi",
         "7.615753293375738",
         "8.884041007647681"
        ],
        [
         "40",
         "Bitki ve Meyve Çayı (Poşet)",
         "1.83880828330385",
         "6.006692751511866"
        ],
        [
         "41",
         "Bot (Erkek için)",
         "4.136751851757037",
         "13.964545496268887"
        ],
        [
         "42",
         "Bot (Kadın için)",
         "1.8936692681573497",
         "9.135065883041648"
        ],
        [
         "43",
         "Bot (Çocuk için)",
         "1.1707888093948515",
         "8.460899620559825"
        ],
        [
         "44",
         "Bulaşık Bezleri",
         "7.799254829390945",
         "13.565648215646187"
        ],
        [
         "45",
         "Bulaşık Makinesi",
         "0.6066497745893074",
         "2.0793211499990027"
        ],
        [
         "46",
         "Bulaşık İçin Temizlik ve Bakım Ürünleri",
         "11.07629866987152",
         "15.854043414363893"
        ],
        [
         "47",
         "Bulgur",
         "2.2677835587783246",
         "3.251128184916352"
        ],
        [
         "48",
         "Burgerler",
         "0.9718030728829818",
         "3.459155046369511"
        ],
        [
         "49",
         "Buğday Unu",
         "0.30896784761207385",
         "0.6396093961172911"
        ]
       ],
       "shape": {
        "columns": 3,
        "rows": 325
       }
      },
      "text/html": [
       "<div>\n",
       "<style scoped>\n",
       "    .dataframe tbody tr th:only-of-type {\n",
       "        vertical-align: middle;\n",
       "    }\n",
       "\n",
       "    .dataframe tbody tr th {\n",
       "        vertical-align: top;\n",
       "    }\n",
       "\n",
       "    .dataframe thead th {\n",
       "        text-align: right;\n",
       "    }\n",
       "</style>\n",
       "<table border=\"1\" class=\"dataframe\">\n",
       "  <thead>\n",
       "    <tr style=\"text-align: right;\">\n",
       "      <th>Tarih</th>\n",
       "      <th>Madde</th>\n",
       "      <th>2025-02</th>\n",
       "      <th>2025-03</th>\n",
       "    </tr>\n",
       "  </thead>\n",
       "  <tbody>\n",
       "    <tr>\n",
       "      <th>0</th>\n",
       "      <td>Ampul</td>\n",
       "      <td>4.786673</td>\n",
       "      <td>8.12935</td>\n",
       "    </tr>\n",
       "    <tr>\n",
       "      <th>1</th>\n",
       "      <td>Ankastre Fırın</td>\n",
       "      <td>1.613256</td>\n",
       "      <td>4.148246</td>\n",
       "    </tr>\n",
       "    <tr>\n",
       "      <th>2</th>\n",
       "      <td>Ankastre Mikrodalga Fırın</td>\n",
       "      <td>1.889752</td>\n",
       "      <td>5.738414</td>\n",
       "    </tr>\n",
       "    <tr>\n",
       "      <th>3</th>\n",
       "      <td>Ankastre Ocak (Set Üstü)</td>\n",
       "      <td>2.523521</td>\n",
       "      <td>4.461977</td>\n",
       "    </tr>\n",
       "    <tr>\n",
       "      <th>4</th>\n",
       "      <td>Antep Fıstığı</td>\n",
       "      <td>-0.151343</td>\n",
       "      <td>0.308796</td>\n",
       "    </tr>\n",
       "    <tr>\n",
       "      <th>...</th>\n",
       "      <td>...</td>\n",
       "      <td>...</td>\n",
       "      <td>...</td>\n",
       "    </tr>\n",
       "    <tr>\n",
       "      <th>320</th>\n",
       "      <td>İç çamaşırı (Çocuk için)</td>\n",
       "      <td>4.81325</td>\n",
       "      <td>6.074393</td>\n",
       "    </tr>\n",
       "    <tr>\n",
       "      <th>321</th>\n",
       "      <td>Şeftali</td>\n",
       "      <td>2.478854</td>\n",
       "      <td>4.822595</td>\n",
       "    </tr>\n",
       "    <tr>\n",
       "      <th>322</th>\n",
       "      <td>Şehriye</td>\n",
       "      <td>2.599573</td>\n",
       "      <td>3.16732</td>\n",
       "    </tr>\n",
       "    <tr>\n",
       "      <th>323</th>\n",
       "      <td>Şemsiye</td>\n",
       "      <td>34.135809</td>\n",
       "      <td>44.814717</td>\n",
       "    </tr>\n",
       "    <tr>\n",
       "      <th>324</th>\n",
       "      <td>Otel Ücreti</td>\n",
       "      <td>27.090261</td>\n",
       "      <td>57.575045</td>\n",
       "    </tr>\n",
       "  </tbody>\n",
       "</table>\n",
       "<p>325 rows × 3 columns</p>\n",
       "</div>"
      ],
      "text/plain": [
       "Tarih                      Madde    2025-02    2025-03\n",
       "0                          Ampul   4.786673    8.12935\n",
       "1                 Ankastre Fırın   1.613256   4.148246\n",
       "2      Ankastre Mikrodalga Fırın   1.889752   5.738414\n",
       "3      Ankastre Ocak (Set Üstü)    2.523521   4.461977\n",
       "4                  Antep Fıstığı  -0.151343   0.308796\n",
       "..                           ...        ...        ...\n",
       "320     İç çamaşırı (Çocuk için)    4.81325   6.074393\n",
       "321                      Şeftali   2.478854   4.822595\n",
       "322                      Şehriye   2.599573    3.16732\n",
       "323                      Şemsiye  34.135809  44.814717\n",
       "324                  Otel Ücreti  27.090261  57.575045\n",
       "\n",
       "[325 rows x 3 columns]"
      ]
     },
     "execution_count": 16,
     "metadata": {},
     "output_type": "execute_result"
    }
   ],
   "source": [
    "endeksler_aylık"
   ]
  },
  {
   "cell_type": "code",
   "execution_count": 3,
   "metadata": {},
   "outputs": [],
   "source": [
    "from datetime import datetime,timedelta\n",
    "import pytz\n",
    "tüfe=pd.read_csv(\"tüfe.csv\",index_col=0)\n",
    "tüfe.index=pd.to_datetime(tüfe.index)\n",
    "gfe1=tüfe.copy()\n",
    "gfe1[\"Date\"]=pd.to_datetime(gfe1.index)\n",
    "gfe1[\"Ay\"]=gfe1[\"Date\"].dt.month\n",
    "gfe1[\"Yıl\"]=gfe1[\"Date\"].dt.year    \n",
    "month = gfe1[\"Ay\"].iloc[-1]\n",
    "year=gfe1[\"Yıl\"].iloc[-1] \n",
    "oncekiyear=gfe1[\"Yıl\"].iloc[-1] "
   ]
  },
  {
   "cell_type": "code",
   "execution_count": 4,
   "metadata": {},
   "outputs": [
    {
     "name": "stderr",
     "output_type": "stream",
     "text": [
      "C:\\Users\\Bora\\AppData\\Local\\Temp\\ipykernel_31400\\2297976651.py:40: FutureWarning: Series.fillna with 'method' is deprecated and will raise in a future version. Use obj.ffill() or obj.bfill() instead.\n",
      "  hareketlima = hareketli_aylik_ortalama(tüfe.iloc[:,0])[\"Aylık Ortalama\"].fillna(method=\"ffill\")\n",
      "C:\\Users\\Bora\\AppData\\Local\\Temp\\ipykernel_31400\\2297976651.py:45: FutureWarning: Series.fillna with 'method' is deprecated and will raise in a future version. Use obj.ffill() or obj.bfill() instead.\n",
      "  hareketliartıs=hareketli_aylik_ortalama(tüfe.iloc[:,0])[\"Aylık Ortalama\"].fillna(method=\"ffill\").loc[tarih:]/hareketli_aylik_ortalama(tüfe.iloc[:,0])[\"Aylık Ortalama\"].fillna(method=\"ffill\").loc[:f\"{onceki}-24\"]\n",
      "C:\\Users\\Bora\\AppData\\Local\\Temp\\ipykernel_31400\\2297976651.py:45: FutureWarning: Series.fillna with 'method' is deprecated and will raise in a future version. Use obj.ffill() or obj.bfill() instead.\n",
      "  hareketliartıs=hareketli_aylik_ortalama(tüfe.iloc[:,0])[\"Aylık Ortalama\"].fillna(method=\"ffill\").loc[tarih:]/hareketli_aylik_ortalama(tüfe.iloc[:,0])[\"Aylık Ortalama\"].fillna(method=\"ffill\").loc[:f\"{onceki}-24\"]\n"
     ]
    }
   ],
   "source": [
    "def hareketli_aylik_ortalama(df):\n",
    "        değer = df.name  # Kolon ismi\n",
    "        df = pd.DataFrame(df)\n",
    "        df[\"Tarih\"] = pd.to_datetime(df.index)  # Tarih sütununu datetime formatına çevir\n",
    "        df[\"Gün Sırası\"] = df.groupby(df[\"Tarih\"].dt.to_period(\"M\")).cumcount() + 1  # Her ay için gün sırasını oluştur\n",
    "        \n",
    "        # Her ay için ilk 24 günü sınırla ve hareketli ortalama hesapla\n",
    "        df[\"Aylık Ortalama\"] = (\n",
    "            df[df[\"Gün Sırası\"] <= 24]\n",
    "            .groupby(df[\"Tarih\"].dt.to_period(\"M\"))[değer]\n",
    "            .expanding()\n",
    "            .mean()\n",
    "            .reset_index(level=0, drop=True)\n",
    "        )\n",
    "        \n",
    "        # Orijinal indeksi geri yükle\n",
    "        df.index = pd.to_datetime(df.index)\n",
    "        return df\n",
    "    \n",
    "\n",
    "   \n",
    "\n",
    "tarihim=pd.to_datetime(gfe1.index[-1]).day\n",
    "if tarihim>24:\n",
    "    tarihim=24\n",
    "if tarihim<10:\n",
    "    tarihim=\"0\"+str(tarihim)\n",
    "\n",
    "\n",
    "def hareketli_aylik_ortalama1(df):\n",
    "        değer=df.name\n",
    "        df=pd.DataFrame(df)\n",
    "        df[\"Tarih\"]=pd.to_datetime(df.index)\n",
    "        df['Aylık Ortalama'] = df.groupby(df['Tarih'].dt.to_period('M'))[değer].expanding().mean().reset_index(level=0, drop=True)\n",
    "        df.index=pd.to_datetime(df.index)\n",
    "        return df\n",
    "\n",
    "\n",
    "\n",
    "hareketlima = hareketli_aylik_ortalama(tüfe.iloc[:,0])[\"Aylık Ortalama\"].fillna(method=\"ffill\")\n",
    "from datetime import datetime,timedelta\n",
    "tarih=datetime.now().strftime(\"%Y-%m\")\n",
    "\n",
    "onceki=(datetime.now()-timedelta(days=31)).strftime(\"%Y-%m\")\n",
    "hareketliartıs=hareketli_aylik_ortalama(tüfe.iloc[:,0])[\"Aylık Ortalama\"].fillna(method=\"ffill\").loc[tarih:]/hareketli_aylik_ortalama(tüfe.iloc[:,0])[\"Aylık Ortalama\"].fillna(method=\"ffill\").loc[:f\"{onceki}-24\"]\n",
    "hareketliartıs=(hareketliartıs-1)*100"
   ]
  },
  {
   "cell_type": "code",
   "execution_count": 7,
   "metadata": {},
   "outputs": [],
   "source": [
    "from datetime import datetime,timedelta\n",
    "tarih=datetime.now().strftime(\"%Y-%m\")\n",
    "onceki=(datetime.now()-timedelta(days=31)).strftime(\"%Y-%m\")"
   ]
  },
  {
   "cell_type": "code",
   "execution_count": 12,
   "metadata": {},
   "outputs": [
    {
     "name": "stderr",
     "output_type": "stream",
     "text": [
      "C:\\Users\\Bora\\AppData\\Local\\Temp\\ipykernel_5540\\62457178.py:1: FutureWarning: Series.fillna with 'method' is deprecated and will raise in a future version. Use obj.ffill() or obj.bfill() instead.\n",
      "  cari=hareketli_aylik_ortalama(tüfe.iloc[:,0])[\"Aylık Ortalama\"].fillna(method=\"ffill\").loc[tarih:]\n",
      "C:\\Users\\Bora\\AppData\\Local\\Temp\\ipykernel_5540\\62457178.py:2: FutureWarning: Series.fillna with 'method' is deprecated and will raise in a future version. Use obj.ffill() or obj.bfill() instead.\n",
      "  hareketliartıs=cari.values/hareketli_aylik_ortalama(tüfe.iloc[:,0])[\"Aylık Ortalama\"].fillna(method=\"ffill\").loc[f\"{onceki}-1\":f\"{onceki}-24\"].iloc[:len(cari)].values\n"
     ]
    }
   ],
   "source": [
    "cari=hareketli_aylik_ortalama(tüfe.iloc[:,0])[\"Aylık Ortalama\"].fillna(method=\"ffill\").loc[tarih:]\n",
    "hareketliartıs=cari.values/hareketli_aylik_ortalama(tüfe.iloc[:,0])[\"Aylık Ortalama\"].fillna(method=\"ffill\").loc[f\"{onceki}-1\":f\"{onceki}-24\"].iloc[:len(cari)].values\n",
    "hareketliartıs=pd.Series(hareketliartıs,index=cari.index)\n",
    "hareketliartıs=(hareketliartıs-1)*100"
   ]
  },
  {
   "cell_type": "code",
   "execution_count": 14,
   "metadata": {},
   "outputs": [
    {
     "name": "stderr",
     "output_type": "stream",
     "text": [
      "C:\\Users\\Bora\\AppData\\Local\\Temp\\ipykernel_5540\\2097899177.py:1: FutureWarning: Series.fillna with 'method' is deprecated and will raise in a future version. Use obj.ffill() or obj.bfill() instead.\n",
      "  cari=hareketli_aylik_ortalama(tüfe.iloc[:,0])[\"Aylık Ortalama\"].fillna(method=\"ffill\")\n",
      "C:\\Users\\Bora\\AppData\\Local\\Temp\\ipykernel_5540\\2097899177.py:2: FutureWarning: 'M' is deprecated and will be removed in a future version, please use 'ME' instead.\n",
      "  aylıkdata=cari.resample('M').last().pct_change().loc[\"2025-02\":]*100\n"
     ]
    },
    {
     "data": {
      "text/plain": [
       "2025-02-28    3.45358\n",
       "Freq: ME, Name: Aylık Ortalama, dtype: float64"
      ]
     },
     "execution_count": 14,
     "metadata": {},
     "output_type": "execute_result"
    }
   ],
   "source": [
    "cari=hareketli_aylik_ortalama(tüfe.iloc[:,0])[\"Aylık Ortalama\"].fillna(method=\"ffill\")\n",
    "aylıkdata=cari.resample('M').last().pct_change().loc[\"2025-02\":]*100\n",
    "aylıkdata.iloc[-1]=hareketliartıs.iloc[-1]\n",
    "aylıkdata"
   ]
  },
  {
   "cell_type": "code",
   "execution_count": 25,
   "metadata": {},
   "outputs": [],
   "source": [
    "[\"Tarih\"].extend(endeksler.columns)"
   ]
  },
  {
   "cell_type": "code",
   "execution_count": 32,
   "metadata": {},
   "outputs": [
    {
     "name": "stderr",
     "output_type": "stream",
     "text": [
      "C:\\Users\\Bora\\AppData\\Local\\Temp\\ipykernel_5540\\3622076335.py:6: FutureWarning: Series.fillna with 'method' is deprecated and will raise in a future version. Use obj.ffill() or obj.bfill() instead.\n",
      "  cari=hareketli_aylik_ortalama(gruplar[col])[\"Aylık Ortalama\"].fillna(method=\"ffill\")\n",
      "C:\\Users\\Bora\\AppData\\Local\\Temp\\ipykernel_5540\\3622076335.py:7: FutureWarning: 'M' is deprecated and will be removed in a future version, please use 'ME' instead.\n",
      "  gruplar_aylık[col]=cari.resample('M').last().pct_change().loc[\"2025-02\":]*100\n",
      "C:\\Users\\Bora\\AppData\\Local\\Temp\\ipykernel_5540\\3622076335.py:8: FutureWarning: Series.fillna with 'method' is deprecated and will raise in a future version. Use obj.ffill() or obj.bfill() instead.\n",
      "  carim=hareketli_aylik_ortalama(gruplar[col])[\"Aylık Ortalama\"].fillna(method=\"ffill\").loc[tarih:]\n",
      "C:\\Users\\Bora\\AppData\\Local\\Temp\\ipykernel_5540\\3622076335.py:9: FutureWarning: Series.fillna with 'method' is deprecated and will raise in a future version. Use obj.ffill() or obj.bfill() instead.\n",
      "  hareketliartıs=carim.values/hareketli_aylik_ortalama(gruplar[col])[\"Aylık Ortalama\"].fillna(method=\"ffill\").loc[f\"{onceki}-1\":f\"{onceki}-24\"].iloc[:len(carim)].values\n",
      "C:\\Users\\Bora\\AppData\\Local\\Temp\\ipykernel_5540\\3622076335.py:12: FutureWarning: ChainedAssignmentError: behaviour will change in pandas 3.0!\n",
      "You are setting values through chained assignment. Currently this works in certain cases, but when using Copy-on-Write (which will become the default behaviour in pandas 3.0) this will never work to update the original DataFrame or Series, because the intermediate object on which we are setting values will behave as a copy.\n",
      "A typical example is when you are setting values in a column of a DataFrame, like:\n",
      "\n",
      "df[\"col\"][row_indexer] = value\n",
      "\n",
      "Use `df.loc[row_indexer, \"col\"] = values` instead, to perform the assignment in a single step and ensure this keeps updating the original `df`.\n",
      "\n",
      "See the caveats in the documentation: https://pandas.pydata.org/pandas-docs/stable/user_guide/indexing.html#returning-a-view-versus-a-copy\n",
      "\n",
      "  gruplar_aylık[col].iloc[-1]=hareketliartıs.iloc[-1]\n",
      "C:\\Users\\Bora\\AppData\\Local\\Temp\\ipykernel_5540\\3622076335.py:12: SettingWithCopyWarning: \n",
      "A value is trying to be set on a copy of a slice from a DataFrame\n",
      "\n",
      "See the caveats in the documentation: https://pandas.pydata.org/pandas-docs/stable/user_guide/indexing.html#returning-a-view-versus-a-copy\n",
      "  gruplar_aylık[col].iloc[-1]=hareketliartıs.iloc[-1]\n",
      "C:\\Users\\Bora\\AppData\\Local\\Temp\\ipykernel_5540\\3622076335.py:6: FutureWarning: Series.fillna with 'method' is deprecated and will raise in a future version. Use obj.ffill() or obj.bfill() instead.\n",
      "  cari=hareketli_aylik_ortalama(gruplar[col])[\"Aylık Ortalama\"].fillna(method=\"ffill\")\n",
      "C:\\Users\\Bora\\AppData\\Local\\Temp\\ipykernel_5540\\3622076335.py:7: FutureWarning: 'M' is deprecated and will be removed in a future version, please use 'ME' instead.\n",
      "  gruplar_aylık[col]=cari.resample('M').last().pct_change().loc[\"2025-02\":]*100\n",
      "C:\\Users\\Bora\\AppData\\Local\\Temp\\ipykernel_5540\\3622076335.py:8: FutureWarning: Series.fillna with 'method' is deprecated and will raise in a future version. Use obj.ffill() or obj.bfill() instead.\n",
      "  carim=hareketli_aylik_ortalama(gruplar[col])[\"Aylık Ortalama\"].fillna(method=\"ffill\").loc[tarih:]\n",
      "C:\\Users\\Bora\\AppData\\Local\\Temp\\ipykernel_5540\\3622076335.py:9: FutureWarning: Series.fillna with 'method' is deprecated and will raise in a future version. Use obj.ffill() or obj.bfill() instead.\n",
      "  hareketliartıs=carim.values/hareketli_aylik_ortalama(gruplar[col])[\"Aylık Ortalama\"].fillna(method=\"ffill\").loc[f\"{onceki}-1\":f\"{onceki}-24\"].iloc[:len(carim)].values\n",
      "C:\\Users\\Bora\\AppData\\Local\\Temp\\ipykernel_5540\\3622076335.py:12: FutureWarning: ChainedAssignmentError: behaviour will change in pandas 3.0!\n",
      "You are setting values through chained assignment. Currently this works in certain cases, but when using Copy-on-Write (which will become the default behaviour in pandas 3.0) this will never work to update the original DataFrame or Series, because the intermediate object on which we are setting values will behave as a copy.\n",
      "A typical example is when you are setting values in a column of a DataFrame, like:\n",
      "\n",
      "df[\"col\"][row_indexer] = value\n",
      "\n",
      "Use `df.loc[row_indexer, \"col\"] = values` instead, to perform the assignment in a single step and ensure this keeps updating the original `df`.\n",
      "\n",
      "See the caveats in the documentation: https://pandas.pydata.org/pandas-docs/stable/user_guide/indexing.html#returning-a-view-versus-a-copy\n",
      "\n",
      "  gruplar_aylık[col].iloc[-1]=hareketliartıs.iloc[-1]\n",
      "C:\\Users\\Bora\\AppData\\Local\\Temp\\ipykernel_5540\\3622076335.py:12: SettingWithCopyWarning: \n",
      "A value is trying to be set on a copy of a slice from a DataFrame\n",
      "\n",
      "See the caveats in the documentation: https://pandas.pydata.org/pandas-docs/stable/user_guide/indexing.html#returning-a-view-versus-a-copy\n",
      "  gruplar_aylık[col].iloc[-1]=hareketliartıs.iloc[-1]\n",
      "C:\\Users\\Bora\\AppData\\Local\\Temp\\ipykernel_5540\\3622076335.py:6: FutureWarning: Series.fillna with 'method' is deprecated and will raise in a future version. Use obj.ffill() or obj.bfill() instead.\n",
      "  cari=hareketli_aylik_ortalama(gruplar[col])[\"Aylık Ortalama\"].fillna(method=\"ffill\")\n",
      "C:\\Users\\Bora\\AppData\\Local\\Temp\\ipykernel_5540\\3622076335.py:7: FutureWarning: 'M' is deprecated and will be removed in a future version, please use 'ME' instead.\n",
      "  gruplar_aylık[col]=cari.resample('M').last().pct_change().loc[\"2025-02\":]*100\n",
      "C:\\Users\\Bora\\AppData\\Local\\Temp\\ipykernel_5540\\3622076335.py:8: FutureWarning: Series.fillna with 'method' is deprecated and will raise in a future version. Use obj.ffill() or obj.bfill() instead.\n",
      "  carim=hareketli_aylik_ortalama(gruplar[col])[\"Aylık Ortalama\"].fillna(method=\"ffill\").loc[tarih:]\n",
      "C:\\Users\\Bora\\AppData\\Local\\Temp\\ipykernel_5540\\3622076335.py:9: FutureWarning: Series.fillna with 'method' is deprecated and will raise in a future version. Use obj.ffill() or obj.bfill() instead.\n",
      "  hareketliartıs=carim.values/hareketli_aylik_ortalama(gruplar[col])[\"Aylık Ortalama\"].fillna(method=\"ffill\").loc[f\"{onceki}-1\":f\"{onceki}-24\"].iloc[:len(carim)].values\n",
      "C:\\Users\\Bora\\AppData\\Local\\Temp\\ipykernel_5540\\3622076335.py:12: FutureWarning: ChainedAssignmentError: behaviour will change in pandas 3.0!\n",
      "You are setting values through chained assignment. Currently this works in certain cases, but when using Copy-on-Write (which will become the default behaviour in pandas 3.0) this will never work to update the original DataFrame or Series, because the intermediate object on which we are setting values will behave as a copy.\n",
      "A typical example is when you are setting values in a column of a DataFrame, like:\n",
      "\n",
      "df[\"col\"][row_indexer] = value\n",
      "\n",
      "Use `df.loc[row_indexer, \"col\"] = values` instead, to perform the assignment in a single step and ensure this keeps updating the original `df`.\n",
      "\n",
      "See the caveats in the documentation: https://pandas.pydata.org/pandas-docs/stable/user_guide/indexing.html#returning-a-view-versus-a-copy\n",
      "\n",
      "  gruplar_aylık[col].iloc[-1]=hareketliartıs.iloc[-1]\n",
      "C:\\Users\\Bora\\AppData\\Local\\Temp\\ipykernel_5540\\3622076335.py:12: SettingWithCopyWarning: \n",
      "A value is trying to be set on a copy of a slice from a DataFrame\n",
      "\n",
      "See the caveats in the documentation: https://pandas.pydata.org/pandas-docs/stable/user_guide/indexing.html#returning-a-view-versus-a-copy\n",
      "  gruplar_aylık[col].iloc[-1]=hareketliartıs.iloc[-1]\n",
      "C:\\Users\\Bora\\AppData\\Local\\Temp\\ipykernel_5540\\3622076335.py:6: FutureWarning: Series.fillna with 'method' is deprecated and will raise in a future version. Use obj.ffill() or obj.bfill() instead.\n",
      "  cari=hareketli_aylik_ortalama(gruplar[col])[\"Aylık Ortalama\"].fillna(method=\"ffill\")\n",
      "C:\\Users\\Bora\\AppData\\Local\\Temp\\ipykernel_5540\\3622076335.py:7: FutureWarning: 'M' is deprecated and will be removed in a future version, please use 'ME' instead.\n",
      "  gruplar_aylık[col]=cari.resample('M').last().pct_change().loc[\"2025-02\":]*100\n",
      "C:\\Users\\Bora\\AppData\\Local\\Temp\\ipykernel_5540\\3622076335.py:8: FutureWarning: Series.fillna with 'method' is deprecated and will raise in a future version. Use obj.ffill() or obj.bfill() instead.\n",
      "  carim=hareketli_aylik_ortalama(gruplar[col])[\"Aylık Ortalama\"].fillna(method=\"ffill\").loc[tarih:]\n",
      "C:\\Users\\Bora\\AppData\\Local\\Temp\\ipykernel_5540\\3622076335.py:9: FutureWarning: Series.fillna with 'method' is deprecated and will raise in a future version. Use obj.ffill() or obj.bfill() instead.\n",
      "  hareketliartıs=carim.values/hareketli_aylik_ortalama(gruplar[col])[\"Aylık Ortalama\"].fillna(method=\"ffill\").loc[f\"{onceki}-1\":f\"{onceki}-24\"].iloc[:len(carim)].values\n",
      "C:\\Users\\Bora\\AppData\\Local\\Temp\\ipykernel_5540\\3622076335.py:12: FutureWarning: ChainedAssignmentError: behaviour will change in pandas 3.0!\n",
      "You are setting values through chained assignment. Currently this works in certain cases, but when using Copy-on-Write (which will become the default behaviour in pandas 3.0) this will never work to update the original DataFrame or Series, because the intermediate object on which we are setting values will behave as a copy.\n",
      "A typical example is when you are setting values in a column of a DataFrame, like:\n",
      "\n",
      "df[\"col\"][row_indexer] = value\n",
      "\n",
      "Use `df.loc[row_indexer, \"col\"] = values` instead, to perform the assignment in a single step and ensure this keeps updating the original `df`.\n",
      "\n",
      "See the caveats in the documentation: https://pandas.pydata.org/pandas-docs/stable/user_guide/indexing.html#returning-a-view-versus-a-copy\n",
      "\n",
      "  gruplar_aylık[col].iloc[-1]=hareketliartıs.iloc[-1]\n",
      "C:\\Users\\Bora\\AppData\\Local\\Temp\\ipykernel_5540\\3622076335.py:12: SettingWithCopyWarning: \n",
      "A value is trying to be set on a copy of a slice from a DataFrame\n",
      "\n",
      "See the caveats in the documentation: https://pandas.pydata.org/pandas-docs/stable/user_guide/indexing.html#returning-a-view-versus-a-copy\n",
      "  gruplar_aylık[col].iloc[-1]=hareketliartıs.iloc[-1]\n",
      "C:\\Users\\Bora\\AppData\\Local\\Temp\\ipykernel_5540\\3622076335.py:6: FutureWarning: Series.fillna with 'method' is deprecated and will raise in a future version. Use obj.ffill() or obj.bfill() instead.\n",
      "  cari=hareketli_aylik_ortalama(gruplar[col])[\"Aylık Ortalama\"].fillna(method=\"ffill\")\n",
      "C:\\Users\\Bora\\AppData\\Local\\Temp\\ipykernel_5540\\3622076335.py:7: FutureWarning: 'M' is deprecated and will be removed in a future version, please use 'ME' instead.\n",
      "  gruplar_aylık[col]=cari.resample('M').last().pct_change().loc[\"2025-02\":]*100\n",
      "C:\\Users\\Bora\\AppData\\Local\\Temp\\ipykernel_5540\\3622076335.py:8: FutureWarning: Series.fillna with 'method' is deprecated and will raise in a future version. Use obj.ffill() or obj.bfill() instead.\n",
      "  carim=hareketli_aylik_ortalama(gruplar[col])[\"Aylık Ortalama\"].fillna(method=\"ffill\").loc[tarih:]\n",
      "C:\\Users\\Bora\\AppData\\Local\\Temp\\ipykernel_5540\\3622076335.py:9: FutureWarning: Series.fillna with 'method' is deprecated and will raise in a future version. Use obj.ffill() or obj.bfill() instead.\n",
      "  hareketliartıs=carim.values/hareketli_aylik_ortalama(gruplar[col])[\"Aylık Ortalama\"].fillna(method=\"ffill\").loc[f\"{onceki}-1\":f\"{onceki}-24\"].iloc[:len(carim)].values\n",
      "C:\\Users\\Bora\\AppData\\Local\\Temp\\ipykernel_5540\\3622076335.py:12: FutureWarning: ChainedAssignmentError: behaviour will change in pandas 3.0!\n",
      "You are setting values through chained assignment. Currently this works in certain cases, but when using Copy-on-Write (which will become the default behaviour in pandas 3.0) this will never work to update the original DataFrame or Series, because the intermediate object on which we are setting values will behave as a copy.\n",
      "A typical example is when you are setting values in a column of a DataFrame, like:\n",
      "\n",
      "df[\"col\"][row_indexer] = value\n",
      "\n",
      "Use `df.loc[row_indexer, \"col\"] = values` instead, to perform the assignment in a single step and ensure this keeps updating the original `df`.\n",
      "\n",
      "See the caveats in the documentation: https://pandas.pydata.org/pandas-docs/stable/user_guide/indexing.html#returning-a-view-versus-a-copy\n",
      "\n",
      "  gruplar_aylık[col].iloc[-1]=hareketliartıs.iloc[-1]\n",
      "C:\\Users\\Bora\\AppData\\Local\\Temp\\ipykernel_5540\\3622076335.py:12: SettingWithCopyWarning: \n",
      "A value is trying to be set on a copy of a slice from a DataFrame\n",
      "\n",
      "See the caveats in the documentation: https://pandas.pydata.org/pandas-docs/stable/user_guide/indexing.html#returning-a-view-versus-a-copy\n",
      "  gruplar_aylık[col].iloc[-1]=hareketliartıs.iloc[-1]\n",
      "C:\\Users\\Bora\\AppData\\Local\\Temp\\ipykernel_5540\\3622076335.py:6: FutureWarning: Series.fillna with 'method' is deprecated and will raise in a future version. Use obj.ffill() or obj.bfill() instead.\n",
      "  cari=hareketli_aylik_ortalama(gruplar[col])[\"Aylık Ortalama\"].fillna(method=\"ffill\")\n",
      "C:\\Users\\Bora\\AppData\\Local\\Temp\\ipykernel_5540\\3622076335.py:7: FutureWarning: 'M' is deprecated and will be removed in a future version, please use 'ME' instead.\n",
      "  gruplar_aylık[col]=cari.resample('M').last().pct_change().loc[\"2025-02\":]*100\n",
      "C:\\Users\\Bora\\AppData\\Local\\Temp\\ipykernel_5540\\3622076335.py:8: FutureWarning: Series.fillna with 'method' is deprecated and will raise in a future version. Use obj.ffill() or obj.bfill() instead.\n",
      "  carim=hareketli_aylik_ortalama(gruplar[col])[\"Aylık Ortalama\"].fillna(method=\"ffill\").loc[tarih:]\n",
      "C:\\Users\\Bora\\AppData\\Local\\Temp\\ipykernel_5540\\3622076335.py:9: FutureWarning: Series.fillna with 'method' is deprecated and will raise in a future version. Use obj.ffill() or obj.bfill() instead.\n",
      "  hareketliartıs=carim.values/hareketli_aylik_ortalama(gruplar[col])[\"Aylık Ortalama\"].fillna(method=\"ffill\").loc[f\"{onceki}-1\":f\"{onceki}-24\"].iloc[:len(carim)].values\n",
      "C:\\Users\\Bora\\AppData\\Local\\Temp\\ipykernel_5540\\3622076335.py:12: FutureWarning: ChainedAssignmentError: behaviour will change in pandas 3.0!\n",
      "You are setting values through chained assignment. Currently this works in certain cases, but when using Copy-on-Write (which will become the default behaviour in pandas 3.0) this will never work to update the original DataFrame or Series, because the intermediate object on which we are setting values will behave as a copy.\n",
      "A typical example is when you are setting values in a column of a DataFrame, like:\n",
      "\n",
      "df[\"col\"][row_indexer] = value\n",
      "\n",
      "Use `df.loc[row_indexer, \"col\"] = values` instead, to perform the assignment in a single step and ensure this keeps updating the original `df`.\n",
      "\n",
      "See the caveats in the documentation: https://pandas.pydata.org/pandas-docs/stable/user_guide/indexing.html#returning-a-view-versus-a-copy\n",
      "\n",
      "  gruplar_aylık[col].iloc[-1]=hareketliartıs.iloc[-1]\n",
      "C:\\Users\\Bora\\AppData\\Local\\Temp\\ipykernel_5540\\3622076335.py:12: SettingWithCopyWarning: \n",
      "A value is trying to be set on a copy of a slice from a DataFrame\n",
      "\n",
      "See the caveats in the documentation: https://pandas.pydata.org/pandas-docs/stable/user_guide/indexing.html#returning-a-view-versus-a-copy\n",
      "  gruplar_aylık[col].iloc[-1]=hareketliartıs.iloc[-1]\n",
      "C:\\Users\\Bora\\AppData\\Local\\Temp\\ipykernel_5540\\3622076335.py:6: FutureWarning: Series.fillna with 'method' is deprecated and will raise in a future version. Use obj.ffill() or obj.bfill() instead.\n",
      "  cari=hareketli_aylik_ortalama(gruplar[col])[\"Aylık Ortalama\"].fillna(method=\"ffill\")\n",
      "C:\\Users\\Bora\\AppData\\Local\\Temp\\ipykernel_5540\\3622076335.py:7: FutureWarning: 'M' is deprecated and will be removed in a future version, please use 'ME' instead.\n",
      "  gruplar_aylık[col]=cari.resample('M').last().pct_change().loc[\"2025-02\":]*100\n",
      "C:\\Users\\Bora\\AppData\\Local\\Temp\\ipykernel_5540\\3622076335.py:8: FutureWarning: Series.fillna with 'method' is deprecated and will raise in a future version. Use obj.ffill() or obj.bfill() instead.\n",
      "  carim=hareketli_aylik_ortalama(gruplar[col])[\"Aylık Ortalama\"].fillna(method=\"ffill\").loc[tarih:]\n",
      "C:\\Users\\Bora\\AppData\\Local\\Temp\\ipykernel_5540\\3622076335.py:9: FutureWarning: Series.fillna with 'method' is deprecated and will raise in a future version. Use obj.ffill() or obj.bfill() instead.\n",
      "  hareketliartıs=carim.values/hareketli_aylik_ortalama(gruplar[col])[\"Aylık Ortalama\"].fillna(method=\"ffill\").loc[f\"{onceki}-1\":f\"{onceki}-24\"].iloc[:len(carim)].values\n",
      "C:\\Users\\Bora\\AppData\\Local\\Temp\\ipykernel_5540\\3622076335.py:12: FutureWarning: ChainedAssignmentError: behaviour will change in pandas 3.0!\n",
      "You are setting values through chained assignment. Currently this works in certain cases, but when using Copy-on-Write (which will become the default behaviour in pandas 3.0) this will never work to update the original DataFrame or Series, because the intermediate object on which we are setting values will behave as a copy.\n",
      "A typical example is when you are setting values in a column of a DataFrame, like:\n",
      "\n",
      "df[\"col\"][row_indexer] = value\n",
      "\n",
      "Use `df.loc[row_indexer, \"col\"] = values` instead, to perform the assignment in a single step and ensure this keeps updating the original `df`.\n",
      "\n",
      "See the caveats in the documentation: https://pandas.pydata.org/pandas-docs/stable/user_guide/indexing.html#returning-a-view-versus-a-copy\n",
      "\n",
      "  gruplar_aylık[col].iloc[-1]=hareketliartıs.iloc[-1]\n",
      "C:\\Users\\Bora\\AppData\\Local\\Temp\\ipykernel_5540\\3622076335.py:12: SettingWithCopyWarning: \n",
      "A value is trying to be set on a copy of a slice from a DataFrame\n",
      "\n",
      "See the caveats in the documentation: https://pandas.pydata.org/pandas-docs/stable/user_guide/indexing.html#returning-a-view-versus-a-copy\n",
      "  gruplar_aylık[col].iloc[-1]=hareketliartıs.iloc[-1]\n",
      "C:\\Users\\Bora\\AppData\\Local\\Temp\\ipykernel_5540\\3622076335.py:6: FutureWarning: Series.fillna with 'method' is deprecated and will raise in a future version. Use obj.ffill() or obj.bfill() instead.\n",
      "  cari=hareketli_aylik_ortalama(gruplar[col])[\"Aylık Ortalama\"].fillna(method=\"ffill\")\n",
      "C:\\Users\\Bora\\AppData\\Local\\Temp\\ipykernel_5540\\3622076335.py:7: FutureWarning: 'M' is deprecated and will be removed in a future version, please use 'ME' instead.\n",
      "  gruplar_aylık[col]=cari.resample('M').last().pct_change().loc[\"2025-02\":]*100\n",
      "C:\\Users\\Bora\\AppData\\Local\\Temp\\ipykernel_5540\\3622076335.py:8: FutureWarning: Series.fillna with 'method' is deprecated and will raise in a future version. Use obj.ffill() or obj.bfill() instead.\n",
      "  carim=hareketli_aylik_ortalama(gruplar[col])[\"Aylık Ortalama\"].fillna(method=\"ffill\").loc[tarih:]\n",
      "C:\\Users\\Bora\\AppData\\Local\\Temp\\ipykernel_5540\\3622076335.py:9: FutureWarning: Series.fillna with 'method' is deprecated and will raise in a future version. Use obj.ffill() or obj.bfill() instead.\n",
      "  hareketliartıs=carim.values/hareketli_aylik_ortalama(gruplar[col])[\"Aylık Ortalama\"].fillna(method=\"ffill\").loc[f\"{onceki}-1\":f\"{onceki}-24\"].iloc[:len(carim)].values\n",
      "C:\\Users\\Bora\\AppData\\Local\\Temp\\ipykernel_5540\\3622076335.py:12: FutureWarning: ChainedAssignmentError: behaviour will change in pandas 3.0!\n",
      "You are setting values through chained assignment. Currently this works in certain cases, but when using Copy-on-Write (which will become the default behaviour in pandas 3.0) this will never work to update the original DataFrame or Series, because the intermediate object on which we are setting values will behave as a copy.\n",
      "A typical example is when you are setting values in a column of a DataFrame, like:\n",
      "\n",
      "df[\"col\"][row_indexer] = value\n",
      "\n",
      "Use `df.loc[row_indexer, \"col\"] = values` instead, to perform the assignment in a single step and ensure this keeps updating the original `df`.\n",
      "\n",
      "See the caveats in the documentation: https://pandas.pydata.org/pandas-docs/stable/user_guide/indexing.html#returning-a-view-versus-a-copy\n",
      "\n",
      "  gruplar_aylık[col].iloc[-1]=hareketliartıs.iloc[-1]\n",
      "C:\\Users\\Bora\\AppData\\Local\\Temp\\ipykernel_5540\\3622076335.py:12: SettingWithCopyWarning: \n",
      "A value is trying to be set on a copy of a slice from a DataFrame\n",
      "\n",
      "See the caveats in the documentation: https://pandas.pydata.org/pandas-docs/stable/user_guide/indexing.html#returning-a-view-versus-a-copy\n",
      "  gruplar_aylık[col].iloc[-1]=hareketliartıs.iloc[-1]\n",
      "C:\\Users\\Bora\\AppData\\Local\\Temp\\ipykernel_5540\\3622076335.py:6: FutureWarning: Series.fillna with 'method' is deprecated and will raise in a future version. Use obj.ffill() or obj.bfill() instead.\n",
      "  cari=hareketli_aylik_ortalama(gruplar[col])[\"Aylık Ortalama\"].fillna(method=\"ffill\")\n",
      "C:\\Users\\Bora\\AppData\\Local\\Temp\\ipykernel_5540\\3622076335.py:7: FutureWarning: 'M' is deprecated and will be removed in a future version, please use 'ME' instead.\n",
      "  gruplar_aylık[col]=cari.resample('M').last().pct_change().loc[\"2025-02\":]*100\n",
      "C:\\Users\\Bora\\AppData\\Local\\Temp\\ipykernel_5540\\3622076335.py:8: FutureWarning: Series.fillna with 'method' is deprecated and will raise in a future version. Use obj.ffill() or obj.bfill() instead.\n",
      "  carim=hareketli_aylik_ortalama(gruplar[col])[\"Aylık Ortalama\"].fillna(method=\"ffill\").loc[tarih:]\n",
      "C:\\Users\\Bora\\AppData\\Local\\Temp\\ipykernel_5540\\3622076335.py:9: FutureWarning: Series.fillna with 'method' is deprecated and will raise in a future version. Use obj.ffill() or obj.bfill() instead.\n",
      "  hareketliartıs=carim.values/hareketli_aylik_ortalama(gruplar[col])[\"Aylık Ortalama\"].fillna(method=\"ffill\").loc[f\"{onceki}-1\":f\"{onceki}-24\"].iloc[:len(carim)].values\n",
      "C:\\Users\\Bora\\AppData\\Local\\Temp\\ipykernel_5540\\3622076335.py:12: FutureWarning: ChainedAssignmentError: behaviour will change in pandas 3.0!\n",
      "You are setting values through chained assignment. Currently this works in certain cases, but when using Copy-on-Write (which will become the default behaviour in pandas 3.0) this will never work to update the original DataFrame or Series, because the intermediate object on which we are setting values will behave as a copy.\n",
      "A typical example is when you are setting values in a column of a DataFrame, like:\n",
      "\n",
      "df[\"col\"][row_indexer] = value\n",
      "\n",
      "Use `df.loc[row_indexer, \"col\"] = values` instead, to perform the assignment in a single step and ensure this keeps updating the original `df`.\n",
      "\n",
      "See the caveats in the documentation: https://pandas.pydata.org/pandas-docs/stable/user_guide/indexing.html#returning-a-view-versus-a-copy\n",
      "\n",
      "  gruplar_aylık[col].iloc[-1]=hareketliartıs.iloc[-1]\n",
      "C:\\Users\\Bora\\AppData\\Local\\Temp\\ipykernel_5540\\3622076335.py:12: SettingWithCopyWarning: \n",
      "A value is trying to be set on a copy of a slice from a DataFrame\n",
      "\n",
      "See the caveats in the documentation: https://pandas.pydata.org/pandas-docs/stable/user_guide/indexing.html#returning-a-view-versus-a-copy\n",
      "  gruplar_aylık[col].iloc[-1]=hareketliartıs.iloc[-1]\n",
      "C:\\Users\\Bora\\AppData\\Local\\Temp\\ipykernel_5540\\3622076335.py:6: FutureWarning: Series.fillna with 'method' is deprecated and will raise in a future version. Use obj.ffill() or obj.bfill() instead.\n",
      "  cari=hareketli_aylik_ortalama(gruplar[col])[\"Aylık Ortalama\"].fillna(method=\"ffill\")\n",
      "C:\\Users\\Bora\\AppData\\Local\\Temp\\ipykernel_5540\\3622076335.py:7: FutureWarning: 'M' is deprecated and will be removed in a future version, please use 'ME' instead.\n",
      "  gruplar_aylık[col]=cari.resample('M').last().pct_change().loc[\"2025-02\":]*100\n",
      "C:\\Users\\Bora\\AppData\\Local\\Temp\\ipykernel_5540\\3622076335.py:8: FutureWarning: Series.fillna with 'method' is deprecated and will raise in a future version. Use obj.ffill() or obj.bfill() instead.\n",
      "  carim=hareketli_aylik_ortalama(gruplar[col])[\"Aylık Ortalama\"].fillna(method=\"ffill\").loc[tarih:]\n",
      "C:\\Users\\Bora\\AppData\\Local\\Temp\\ipykernel_5540\\3622076335.py:9: FutureWarning: Series.fillna with 'method' is deprecated and will raise in a future version. Use obj.ffill() or obj.bfill() instead.\n",
      "  hareketliartıs=carim.values/hareketli_aylik_ortalama(gruplar[col])[\"Aylık Ortalama\"].fillna(method=\"ffill\").loc[f\"{onceki}-1\":f\"{onceki}-24\"].iloc[:len(carim)].values\n",
      "C:\\Users\\Bora\\AppData\\Local\\Temp\\ipykernel_5540\\3622076335.py:12: FutureWarning: ChainedAssignmentError: behaviour will change in pandas 3.0!\n",
      "You are setting values through chained assignment. Currently this works in certain cases, but when using Copy-on-Write (which will become the default behaviour in pandas 3.0) this will never work to update the original DataFrame or Series, because the intermediate object on which we are setting values will behave as a copy.\n",
      "A typical example is when you are setting values in a column of a DataFrame, like:\n",
      "\n",
      "df[\"col\"][row_indexer] = value\n",
      "\n",
      "Use `df.loc[row_indexer, \"col\"] = values` instead, to perform the assignment in a single step and ensure this keeps updating the original `df`.\n",
      "\n",
      "See the caveats in the documentation: https://pandas.pydata.org/pandas-docs/stable/user_guide/indexing.html#returning-a-view-versus-a-copy\n",
      "\n",
      "  gruplar_aylık[col].iloc[-1]=hareketliartıs.iloc[-1]\n",
      "C:\\Users\\Bora\\AppData\\Local\\Temp\\ipykernel_5540\\3622076335.py:12: SettingWithCopyWarning: \n",
      "A value is trying to be set on a copy of a slice from a DataFrame\n",
      "\n",
      "See the caveats in the documentation: https://pandas.pydata.org/pandas-docs/stable/user_guide/indexing.html#returning-a-view-versus-a-copy\n",
      "  gruplar_aylık[col].iloc[-1]=hareketliartıs.iloc[-1]\n",
      "C:\\Users\\Bora\\AppData\\Local\\Temp\\ipykernel_5540\\3622076335.py:6: FutureWarning: Series.fillna with 'method' is deprecated and will raise in a future version. Use obj.ffill() or obj.bfill() instead.\n",
      "  cari=hareketli_aylik_ortalama(gruplar[col])[\"Aylık Ortalama\"].fillna(method=\"ffill\")\n",
      "C:\\Users\\Bora\\AppData\\Local\\Temp\\ipykernel_5540\\3622076335.py:7: FutureWarning: 'M' is deprecated and will be removed in a future version, please use 'ME' instead.\n",
      "  gruplar_aylık[col]=cari.resample('M').last().pct_change().loc[\"2025-02\":]*100\n",
      "C:\\Users\\Bora\\AppData\\Local\\Temp\\ipykernel_5540\\3622076335.py:8: FutureWarning: Series.fillna with 'method' is deprecated and will raise in a future version. Use obj.ffill() or obj.bfill() instead.\n",
      "  carim=hareketli_aylik_ortalama(gruplar[col])[\"Aylık Ortalama\"].fillna(method=\"ffill\").loc[tarih:]\n",
      "C:\\Users\\Bora\\AppData\\Local\\Temp\\ipykernel_5540\\3622076335.py:9: FutureWarning: Series.fillna with 'method' is deprecated and will raise in a future version. Use obj.ffill() or obj.bfill() instead.\n",
      "  hareketliartıs=carim.values/hareketli_aylik_ortalama(gruplar[col])[\"Aylık Ortalama\"].fillna(method=\"ffill\").loc[f\"{onceki}-1\":f\"{onceki}-24\"].iloc[:len(carim)].values\n",
      "C:\\Users\\Bora\\AppData\\Local\\Temp\\ipykernel_5540\\3622076335.py:12: FutureWarning: ChainedAssignmentError: behaviour will change in pandas 3.0!\n",
      "You are setting values through chained assignment. Currently this works in certain cases, but when using Copy-on-Write (which will become the default behaviour in pandas 3.0) this will never work to update the original DataFrame or Series, because the intermediate object on which we are setting values will behave as a copy.\n",
      "A typical example is when you are setting values in a column of a DataFrame, like:\n",
      "\n",
      "df[\"col\"][row_indexer] = value\n",
      "\n",
      "Use `df.loc[row_indexer, \"col\"] = values` instead, to perform the assignment in a single step and ensure this keeps updating the original `df`.\n",
      "\n",
      "See the caveats in the documentation: https://pandas.pydata.org/pandas-docs/stable/user_guide/indexing.html#returning-a-view-versus-a-copy\n",
      "\n",
      "  gruplar_aylık[col].iloc[-1]=hareketliartıs.iloc[-1]\n"
     ]
    }
   ],
   "source": [
    "gruplar=pd.read_csv(\"gruplar_int.csv\",index_col=0)\n",
    "gruplar.index=pd.to_datetime(gruplar.index)\n",
    "gruplar=gruplar.sort_index()\n",
    "gruplar_aylık=pd.DataFrame(columns=gruplar.columns)\n",
    "for col in gruplar.columns:\n",
    "    cari=hareketli_aylik_ortalama(gruplar[col])[\"Aylık Ortalama\"].fillna(method=\"ffill\")\n",
    "    gruplar_aylık[col]=cari.resample('M').last().pct_change().loc[\"2025-02\":]*100\n",
    "    carim=hareketli_aylik_ortalama(gruplar[col])[\"Aylık Ortalama\"].fillna(method=\"ffill\").loc[tarih:]\n",
    "    hareketliartıs=carim.values/hareketli_aylik_ortalama(gruplar[col])[\"Aylık Ortalama\"].fillna(method=\"ffill\").loc[f\"{onceki}-1\":f\"{onceki}-24\"].iloc[:len(carim)].values\n",
    "    hareketliartıs=pd.Series(hareketliartıs,index=carim.index)\n",
    "    hareketliartıs=(hareketliartıs-1)*100\n",
    "    gruplar_aylık[col].iloc[-1]=hareketliartıs.iloc[-1]\n",
    "    gruplar_aylık=pd.DataFrame(gruplar_aylık)\n",
    "gruplar_aylık[\"Tarih\"]=(gruplar_aylık.index.strftime(\"%Y-%m\"))\n",
    "cols=[\"Tarih\"]\n",
    "cols.extend(gruplar.columns)\n",
    "gruplar_aylık=gruplar_aylık[cols]\n",
    "gruplar_aylık=gruplar_aylık.reset_index(drop=True)"
   ]
  },
  {
   "cell_type": "code",
   "execution_count": 33,
   "metadata": {},
   "outputs": [
    {
     "data": {
      "text/html": [
       "<div>\n",
       "<style scoped>\n",
       "    .dataframe tbody tr th:only-of-type {\n",
       "        vertical-align: middle;\n",
       "    }\n",
       "\n",
       "    .dataframe tbody tr th {\n",
       "        vertical-align: top;\n",
       "    }\n",
       "\n",
       "    .dataframe thead th {\n",
       "        text-align: right;\n",
       "    }\n",
       "</style>\n",
       "<table border=\"1\" class=\"dataframe\">\n",
       "  <thead>\n",
       "    <tr style=\"text-align: right;\">\n",
       "      <th></th>\n",
       "      <th>Tarih</th>\n",
       "      <th>Ev eşyası</th>\n",
       "      <th>Eğitim</th>\n",
       "      <th>Eğlence ve kültür</th>\n",
       "      <th>Giyim ve ayakkabı</th>\n",
       "      <th>Gıda ve alkolsüz içecekler</th>\n",
       "      <th>Haberleşme</th>\n",
       "      <th>Konut</th>\n",
       "      <th>Lokanta ve oteller</th>\n",
       "      <th>Ulaştırma</th>\n",
       "      <th>Çeşitli mal ve hizmetler</th>\n",
       "      <th>TÜFE</th>\n",
       "    </tr>\n",
       "  </thead>\n",
       "  <tbody>\n",
       "    <tr>\n",
       "      <th>0</th>\n",
       "      <td>2025-02</td>\n",
       "      <td>5.134547</td>\n",
       "      <td>7.385641</td>\n",
       "      <td>3.67301</td>\n",
       "      <td>4.427764</td>\n",
       "      <td>3.36911</td>\n",
       "      <td>-1.146261</td>\n",
       "      <td>3.004544</td>\n",
       "      <td>3.917252</td>\n",
       "      <td>2.107484</td>\n",
       "      <td>5.222684</td>\n",
       "      <td>3.45358</td>\n",
       "    </tr>\n",
       "  </tbody>\n",
       "</table>\n",
       "</div>"
      ],
      "text/plain": [
       "     Tarih  Ev eşyası    Eğitim  Eğlence ve kültür  Giyim ve ayakkabı  \\\n",
       "0  2025-02   5.134547  7.385641            3.67301           4.427764   \n",
       "\n",
       "   Gıda ve alkolsüz içecekler  Haberleşme     Konut  Lokanta ve oteller  \\\n",
       "0                     3.36911   -1.146261  3.004544            3.917252   \n",
       "\n",
       "   Ulaştırma  Çeşitli mal ve hizmetler     TÜFE  \n",
       "0   2.107484                  5.222684  3.45358  "
      ]
     },
     "execution_count": 33,
     "metadata": {},
     "output_type": "execute_result"
    }
   ],
   "source": [
    "gruplar_aylık"
   ]
  },
  {
   "cell_type": "code",
   "execution_count": 32,
   "metadata": {},
   "outputs": [
    {
     "name": "stderr",
     "output_type": "stream",
     "text": [
      "C:\\Users\\Bora\\AppData\\Local\\Temp\\ipykernel_46100\\1288260787.py:1: FutureWarning: Series.fillna with 'method' is deprecated and will raise in a future version. Use obj.ffill() or obj.bfill() instead.\n",
      "  cari=hareketli_aylik_ortalama(tüfe.iloc[:,0])[\"Aylık Ortalama\"].fillna(method=\"ffill\").loc[tarih:]\n"
     ]
    }
   ],
   "source": [
    "cari=hareketli_aylik_ortalama(tüfe.iloc[:,0])[\"Aylık Ortalama\"].fillna(method=\"ffill\").loc[tarih:]"
   ]
  },
  {
   "cell_type": "code",
   "execution_count": 33,
   "metadata": {},
   "outputs": [
    {
     "name": "stderr",
     "output_type": "stream",
     "text": [
      "C:\\Users\\Bora\\AppData\\Local\\Temp\\ipykernel_46100\\2356160772.py:1: FutureWarning: Series.fillna with 'method' is deprecated and will raise in a future version. Use obj.ffill() or obj.bfill() instead.\n",
      "  hareketli_aylik_ortalama(tüfe.iloc[:,0])[\"Aylık Ortalama\"].fillna(method=\"ffill\").loc[f\"{onceki}-1\":f\"{onceki}-24\"].iloc[:len(cari)]\n"
     ]
    },
    {
     "data": {
      "text/plain": [
       "2025-01-01    100.532588\n",
       "2025-01-02    100.609943\n",
       "2025-01-03    100.690320\n",
       "2025-01-04    100.753498\n",
       "2025-01-05    100.806831\n",
       "2025-01-06    100.864572\n",
       "2025-01-07    100.930172\n",
       "2025-01-08    100.997635\n",
       "2025-01-09    101.067898\n",
       "2025-01-10    101.130934\n",
       "Name: Aylık Ortalama, dtype: float64"
      ]
     },
     "execution_count": 33,
     "metadata": {},
     "output_type": "execute_result"
    }
   ],
   "source": [
    "hareketli_aylik_ortalama(tüfe.iloc[:,0])[\"Aylık Ortalama\"].fillna(method=\"ffill\").loc[f\"{onceki}-1\":f\"{onceki}-24\"].iloc[:len(cari)]"
   ]
  },
  {
   "cell_type": "code",
   "execution_count": 35,
   "metadata": {},
   "outputs": [
    {
     "name": "stderr",
     "output_type": "stream",
     "text": [
      "C:\\Users\\Bora\\AppData\\Local\\Temp\\ipykernel_46100\\1253615930.py:1: FutureWarning: Series.fillna with 'method' is deprecated and will raise in a future version. Use obj.ffill() or obj.bfill() instead.\n",
      "  cari.values/hareketli_aylik_ortalama(tüfe.iloc[:,0])[\"Aylık Ortalama\"].fillna(method=\"ffill\").loc[f\"{onceki}-1\":f\"{onceki}-24\"].iloc[:len(cari)].values\n"
     ]
    },
    {
     "data": {
      "text/plain": [
       "array([1.02997922, 1.02961507, 1.02925488, 1.02953024, 1.03005078,\n",
       "       1.03059827, 1.03087737, 1.03109726, 1.03112856, 1.03126141])"
      ]
     },
     "execution_count": 35,
     "metadata": {},
     "output_type": "execute_result"
    }
   ],
   "source": [
    "cari.values/hareketli_aylik_ortalama(tüfe.iloc[:,0])[\"Aylık Ortalama\"].fillna(method=\"ffill\").loc[f\"{onceki}-1\":f\"{onceki}-24\"].iloc[:len(cari)].values"
   ]
  }
 ],
 "metadata": {
  "kernelspec": {
   "display_name": "Python 3",
   "language": "python",
   "name": "python3"
  },
  "language_info": {
   "codemirror_mode": {
    "name": "ipython",
    "version": 3
   },
   "file_extension": ".py",
   "mimetype": "text/x-python",
   "name": "python",
   "nbconvert_exporter": "python",
   "pygments_lexer": "ipython3",
   "version": "3.10.0"
  }
 },
 "nbformat": 4,
 "nbformat_minor": 2
}
